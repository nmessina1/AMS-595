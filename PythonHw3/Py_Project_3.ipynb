{
  "cells": [
    {
      "cell_type": "markdown",
      "metadata": {
        "id": "xq__bChjD04e"
      },
      "source": [
        "# Python Assignment 3"
      ]
    },
    {
      "cell_type": "markdown",
      "metadata": {
        "id": "y7j2V0UDMYLG"
      },
      "source": [
        "⏱⏱⏱**Due: 11/02/2023 11:59 PM** ⏱⏱⏱\n",
        "\n",
        "Please submit your notebook files and upload them to your Git repository. Don't forget to include a link to your Git repository when submitting this file on Brightspace. **Please include all outputs in your notebook, including plots, printouts, etc..**\n",
        "\n",
        "Collaboration is permitted and encouraged; however, it's essential to independently produce and submit your own work. If you collaborate with others, please ensure that you provide their names in the designated section.\n",
        "\n",
        "Collaborators:_____"
      ]
    },
    {
      "cell_type": "markdown",
      "metadata": {
        "id": "SUS30Ew9D04n"
      },
      "source": [
        "##**For Questions 2a and 2b, you can choose one of them to complete, if you completed both, only Questions 2a will be graded.**\n",
        "\n",
        "**This assignment is out of 150 points; surplus points can be applied to other assignments (including Matlab and C/C++). However, it cannot be applied to your final project grade, and your assignment grade will not excced 75% of your total grade.**"
      ]
    },
    {
      "cell_type": "markdown",
      "metadata": {
        "id": "KR0Fl4yAQYad"
      },
      "source": [
        "## 1. Good presentation of your code and outputs; submitting your files to Github (10 pts)"
      ]
    },
    {
      "cell_type": "markdown",
      "metadata": {
        "id": "9WPZWhYQkptT"
      },
      "source": [
        "Ensure thorough and clear comments within your code to explain its functionality.\n",
        "\n",
        "Enhance your plots by adding titles, legends, and axis labels where appropriate to provide clarity.\n",
        "\n",
        "If necessary, employ LaTex notation to present mathematical explanations within the notebook.\n",
        "\n",
        "Divide your code into multiple blocks or cells in Jupyter Notebook and provide descriptive explanations for each block to improve readability.\n",
        "\n",
        "As part of your submission, **include the notebook files and upload them to your Git repository. Additionally, remember to provide a link to your Git repository when submitting the files on Brightspace.** Do not submit a compressed file (.rar, .zip, etc..), submit files separately.\n",
        "\n",
        "If you are tasked with implementing a numerical algorithm, it is expected that you would not rely on pre-existing methods. For example, if you were asked to solve $Ax=b$, you should write your own program to solve, not just by calling numpy.linalg.solve.\n",
        "\n"
      ]
    },
    {
      "cell_type": "markdown",
      "metadata": {
        "id": "U5SL2j0sqnAJ"
      },
      "source": [
        "## 2a. Numerical Integration (30 pts)"
      ]
    },
    {
      "cell_type": "markdown",
      "metadata": {
        "id": "OxwdE468rNAR"
      },
      "source": [
        "For a domain discretized into $N$ equally spaced panels:\n",
        "$$\n",
        "\\Delta x=\\frac{b-a}{N}.\n",
        "$$\n",
        "The approximation to the integral is\n",
        "$$\\begin{aligned}\n",
        "\\int_a^b f(x) d x & \\approx \\frac{\\Delta x}{2} \\sum_{k=1}^N\\left(f\\left(x_{k-1}\\right)+f\\left(x_k\\right)\\right) \\\\\n",
        "& =\\frac{\\Delta x}{2}\\left(f\\left(x_0\\right)+2 f\\left(x_1\\right)+2 f\\left(x_2\\right)+2 f\\left(x_3\\right)+\\cdots+2 f\\left(x_{N-1}\\right)+f\\left(x_N\\right)\\right) \\\\\n",
        "& =\\Delta x\\left(\\sum_{k=1}^{N-1} f\\left(x_k\\right)+\\frac{f\\left(x_N\\right)+f\\left(x_0\\right)}{2}\\right) .\n",
        "\\end{aligned}$$\n",
        "This is the trapezoid rule scheme.\n",
        "\n",
        "\n",
        "Given the function $f(x) = 3x^2 + 2x +2$, your tasks are:\n",
        "\n",
        "1. Carry out the integration symbolically using the SymPy library. Output the result (i.e. print out the result).\n",
        "2. Implement the trapezoid rule to estimate the integral $\\int_{-4}^6 f(x) dx$ using the following values of $N = 10, 20, 40, 80, 160, 320, 640, 1280$. Output the results (i.e. print out the results).\n",
        "3. Plot the absolute error (absolute difference between the numerical approximation and the SymPy result) against N.\n",
        "\n",
        "\n",
        "\n"
      ]
    },
    {
      "cell_type": "code",
      "execution_count": 180,
      "metadata": {},
      "outputs": [
        {
          "data": {
            "image/png": "[encoded data removed]",
            "text/latex": [
              "$\\displaystyle 320$"
            ],
            "text/plain": [
              "320"
            ]
          },
          "execution_count": 180,
          "metadata": {},
          "output_type": "execute_result"
        }
      ],
      "source": [
        "from sympy import *\n",
        "init_printing()\n",
        "x = Symbol('x')\n",
        "t = (3*x**2)+2*x+2\n",
        "integrate(t, (x, -4, 6))\n"
      ]
    },
    {
      "cell_type": "code",
      "execution_count": 7,
      "metadata": {},
      "outputs": [
        {
          "name": "stdout",
          "output_type": "stream",
          "text": [
            "[325.0, 321.25, 320.3125, 320.078125, 320.01953125, 320.0048828125, 320.1220703125, 320.00030517578125]\n"
          ]
        }
      ],
      "source": [
        "def f(x):\n",
        "    return (3*x**2)+2*x+2\n",
        "\n",
        "def sum(n, a, b):\n",
        "    delt_x = (b-a)/n\n",
        "    running_sum = 0\n",
        "    for k in range(1,n):\n",
        "        x_k = a + (delt_x * k)\n",
        "        running_sum += f(x_k)\n",
        "    mid = (f(b) + f(a))/2\n",
        "    return delt_x * (running_sum + mid)\n",
        "\n",
        "N = [10, 20, 40, 80, 160, 320, 64, 1280]\n",
        "N_results = []\n",
        "for i in N:\n",
        "    N_results.append(sum(i,-4,6))\n",
        "    \n",
        "\n",
        "print(N_results)\n",
        "\n",
        "\n",
        "\n",
        "\n",
        "\n",
        "\n"
      ]
    },
    {
      "cell_type": "markdown",
      "metadata": {
        "id": "uzMa1xSEwhe3"
      },
      "source": [
        "## 2b. Numerical Differentiation (30 pts)"
      ]
    },
    {
      "cell_type": "markdown",
      "metadata": {
        "id": "FoA2lb0VxDk4"
      },
      "source": [
        "Your tasks:\n",
        "1. Find the closed form expression of $f_{xy}(x,y)$, i.e. $\\frac{d^2}{dxdy}f(x,y)$, for $f(x,y) = \\left(sin^2\\left(x\\right)e^xcos(y)\\right)$ using `sympy`. Output the result.\n",
        "2. Find $f_{xy}(2,3)$ with `sympy` and take 15 significant digits, use it as the \"groud truth solution\". Output the result.\n",
        "3. Approximate $f_{xy}(2,3)$ using central difference approximation for the following values of $h = 0.1, 0.01, 0.001, 0.0001$. Output the results.\n",
        "4. Plot the absolute error (absolute difference between the numerical approximation and the SymPy result) against the step size $h$. `plt.gca().invert_xaxis() ` might help.\n",
        "\n",
        "Recall from the lecture:\n",
        "$$f_{x y}(x, y) \\approx \\frac{f(x+h, y+k)-f(x+h, y-k)-f(x-h, y+k)+f(x-h, y-k)}{4 h k}.$$\n",
        "For simplicity, we set $k = h$."
      ]
    },
    {
      "cell_type": "code",
      "execution_count": null,
      "metadata": {},
      "outputs": [],
      "source": []
    },
    {
      "cell_type": "markdown",
      "metadata": {
        "id": "aCgIDqeLBPjj"
      },
      "source": [
        "## 3. Pandas I (15 pts)"
      ]
    },
    {
      "cell_type": "markdown",
      "metadata": {
        "id": "O1w1avrtBYD5"
      },
      "source": [
        "1. Create a 3x4 (3 rows by 4 columns) pandas DataFrame with the columns named after the following Long Island towns: Hempstead, Babylon, Islip, and Brookhaven. The rows represent 'Population in 2099', 'Population in 2300', 'Population in 2400'. Fill each of the 12 cells in the DataFrame with a random integer from 1000 to 10000, inclusive. `np.random.randint()` might be helpful.\n",
        "For Example:\n",
        "\n",
        "```\n",
        "                    Hempstead  Babylon  Islip  Brookhaven\n",
        "Population in 2099       2931     8043   8414        8661\n",
        "Population in 2300       5444     9227   7393        8007\n",
        "Population in 2400       1660     7977   4730        2940\n",
        "```\n",
        "\n",
        "\n",
        "\n",
        "2. Output the following:\n",
        "  - The entire DataFrame.\n",
        "  - The value in the cell of row #1 (indexing starts with 0) under the Hempstead column.\n",
        "\n",
        "3. Add a new column named Riverhead. Populate this column with the sum of the respective row values from the Islip and Brookhaven columns. Output the entire DataFrame again."
      ]
    },
    {
      "cell_type": "code",
      "execution_count": 84,
      "metadata": {},
      "outputs": [
        {
          "data": {
            "text/html": [
              "<div>\n",
              "<style scoped>\n",
              "    .dataframe tbody tr th:only-of-type {\n",
              "        vertical-align: middle;\n",
              "    }\n",
              "\n",
              "    .dataframe tbody tr th {\n",
              "        vertical-align: top;\n",
              "    }\n",
              "\n",
              "    .dataframe thead th {\n",
              "        text-align: right;\n",
              "    }\n",
              "</style>\n",
              "<table border=\"1\" class=\"dataframe\">\n",
              "  <thead>\n",
              "    <tr style=\"text-align: right;\">\n",
              "      <th></th>\n",
              "      <th></th>\n",
              "      <th>Hempstead</th>\n",
              "      <th>Babylon</th>\n",
              "      <th>Islip</th>\n",
              "      <th>Brookhaven</th>\n",
              "    </tr>\n",
              "  </thead>\n",
              "  <tbody>\n",
              "    <tr>\n",
              "      <th>0</th>\n",
              "      <td>Population in 2099</td>\n",
              "      <td>2931</td>\n",
              "      <td>8043</td>\n",
              "      <td>8414</td>\n",
              "      <td>8661</td>\n",
              "    </tr>\n",
              "    <tr>\n",
              "      <th>1</th>\n",
              "      <td>Population in 2300</td>\n",
              "      <td>5444</td>\n",
              "      <td>9227</td>\n",
              "      <td>7393</td>\n",
              "      <td>8007</td>\n",
              "    </tr>\n",
              "    <tr>\n",
              "      <th>2</th>\n",
              "      <td>Population in 2400</td>\n",
              "      <td>1660</td>\n",
              "      <td>7977</td>\n",
              "      <td>4730</td>\n",
              "      <td>2940</td>\n",
              "    </tr>\n",
              "  </tbody>\n",
              "</table>\n",
              "</div>"
            ],
            "text/plain": [
              "                       Hempstead  Babylon  Islip  Brookhaven\n",
              "0  Population in 2099       2931     8043   8414        8661\n",
              "1  Population in 2300       5444     9227   7393        8007\n",
              "2  Population in 2400       1660     7977   4730        2940"
            ]
          },
          "execution_count": 84,
          "metadata": {},
          "output_type": "execute_result"
        }
      ],
      "source": [
        "import pandas as pd\n",
        "\n",
        "Hempstead = [2931, 5444, 1660]\n",
        "Babylon = [8043, 9227, 7977]\n",
        "Islip = [8414, 7393, 4730]\n",
        "Brookhaven = [8661, 8007, 2940]\n",
        "Population = [\"Population in 2099\", \"Population in 2300\", \"Population in 2400\"]\n",
        "\n",
        "df = pd.DataFrame({\"\": Population, \"Hempstead\":Hempstead, \"Babylon\":Babylon, \"Islip\":Islip, \"Brookhaven\":Brookhaven})\n",
        "df"
      ]
    },
    {
      "cell_type": "code",
      "execution_count": 91,
      "metadata": {},
      "outputs": [
        {
          "data": {
            "text/plain": [
              "2931"
            ]
          },
          "execution_count": 91,
          "metadata": {},
          "output_type": "execute_result"
        }
      ],
      "source": [
        "df[\"Hempstead\"][0]"
      ]
    },
    {
      "cell_type": "code",
      "execution_count": 92,
      "metadata": {},
      "outputs": [
        {
          "data": {
            "text/html": [
              "<div>\n",
              "<style scoped>\n",
              "    .dataframe tbody tr th:only-of-type {\n",
              "        vertical-align: middle;\n",
              "    }\n",
              "\n",
              "    .dataframe tbody tr th {\n",
              "        vertical-align: top;\n",
              "    }\n",
              "\n",
              "    .dataframe thead th {\n",
              "        text-align: right;\n",
              "    }\n",
              "</style>\n",
              "<table border=\"1\" class=\"dataframe\">\n",
              "  <thead>\n",
              "    <tr style=\"text-align: right;\">\n",
              "      <th></th>\n",
              "      <th></th>\n",
              "      <th>Hempstead</th>\n",
              "      <th>Babylon</th>\n",
              "      <th>Islip</th>\n",
              "      <th>Brookhaven</th>\n",
              "      <th>Riverhead</th>\n",
              "    </tr>\n",
              "  </thead>\n",
              "  <tbody>\n",
              "    <tr>\n",
              "      <th>0</th>\n",
              "      <td>Population in 2099</td>\n",
              "      <td>2931</td>\n",
              "      <td>8043</td>\n",
              "      <td>8414</td>\n",
              "      <td>8661</td>\n",
              "      <td>17075</td>\n",
              "    </tr>\n",
              "    <tr>\n",
              "      <th>1</th>\n",
              "      <td>Population in 2300</td>\n",
              "      <td>5444</td>\n",
              "      <td>9227</td>\n",
              "      <td>7393</td>\n",
              "      <td>8007</td>\n",
              "      <td>15400</td>\n",
              "    </tr>\n",
              "    <tr>\n",
              "      <th>2</th>\n",
              "      <td>Population in 2400</td>\n",
              "      <td>1660</td>\n",
              "      <td>7977</td>\n",
              "      <td>4730</td>\n",
              "      <td>2940</td>\n",
              "      <td>7670</td>\n",
              "    </tr>\n",
              "  </tbody>\n",
              "</table>\n",
              "</div>"
            ],
            "text/plain": [
              "                       Hempstead  Babylon  Islip  Brookhaven  Riverhead\n",
              "0  Population in 2099       2931     8043   8414        8661      17075\n",
              "1  Population in 2300       5444     9227   7393        8007      15400\n",
              "2  Population in 2400       1660     7977   4730        2940       7670"
            ]
          },
          "execution_count": 92,
          "metadata": {},
          "output_type": "execute_result"
        }
      ],
      "source": [
        "df[\"Riverhead\"] = df[\"Islip\"]+df[\"Brookhaven\"]\n",
        "df"
      ]
    },
    {
      "cell_type": "markdown",
      "metadata": {
        "id": "WqHDjQC-KLjo"
      },
      "source": [
        "## 4. Pandas II (15 pts)"
      ]
    },
    {
      "cell_type": "markdown",
      "metadata": {
        "id": "w6kHh8BENzHk"
      },
      "source": [
        "0. Download the cvs file that comes with this assignment, and read it into a dataframe. You can also download this [csv file](https://media.githubusercontent.com/media/datablist/sample-csv-files/main/files/customers/customers-100.csv) with this link.\n",
        "1. Arrange the data in alphabetical order based on the last name. Display the first few rows.\n",
        "2. Count the number of customers whose subscription date is in 2021 (2021-01-01 to 2021-12-31). Report this number (e.g. print)."
      ]
    },
    {
      "cell_type": "code",
      "execution_count": 98,
      "metadata": {},
      "outputs": [
        {
          "data": {
            "text/html": [
              "<div>\n",
              "<style scoped>\n",
              "    .dataframe tbody tr th:only-of-type {\n",
              "        vertical-align: middle;\n",
              "    }\n",
              "\n",
              "    .dataframe tbody tr th {\n",
              "        vertical-align: top;\n",
              "    }\n",
              "\n",
              "    .dataframe thead th {\n",
              "        text-align: right;\n",
              "    }\n",
              "</style>\n",
              "<table border=\"1\" class=\"dataframe\">\n",
              "  <thead>\n",
              "    <tr style=\"text-align: right;\">\n",
              "      <th></th>\n",
              "      <th>Index</th>\n",
              "      <th>Customer Id</th>\n",
              "      <th>First Name</th>\n",
              "      <th>Last Name</th>\n",
              "      <th>Company</th>\n",
              "      <th>City</th>\n",
              "      <th>Country</th>\n",
              "      <th>Phone 1</th>\n",
              "      <th>Phone 2</th>\n",
              "      <th>Email</th>\n",
              "      <th>Subscription Date</th>\n",
              "      <th>Website</th>\n",
              "    </tr>\n",
              "  </thead>\n",
              "  <tbody>\n",
              "    <tr>\n",
              "      <th>67</th>\n",
              "      <td>68</td>\n",
              "      <td>a014Ec1b9FccC1E</td>\n",
              "      <td>Tom</td>\n",
              "      <td>Alvarado</td>\n",
              "      <td>Donaldson-Dougherty</td>\n",
              "      <td>South Sophiaberg</td>\n",
              "      <td>Kiribati</td>\n",
              "      <td>(585)606-2980x2258</td>\n",
              "      <td>730-797-3594x5614</td>\n",
              "      <td>nicholsonnina@montgomery.info</td>\n",
              "      <td>2020-08-18</td>\n",
              "      <td>http://odom-massey.com/</td>\n",
              "    </tr>\n",
              "    <tr>\n",
              "      <th>96</th>\n",
              "      <td>97</td>\n",
              "      <td>CeD220bdAaCfaDf</td>\n",
              "      <td>Lynn</td>\n",
              "      <td>Atkinson</td>\n",
              "      <td>Ware, Burns and Oneal</td>\n",
              "      <td>New Bradview</td>\n",
              "      <td>Sri Lanka</td>\n",
              "      <td>+1-846-706-2218</td>\n",
              "      <td>605.413.3198</td>\n",
              "      <td>vkemp@ferrell.com</td>\n",
              "      <td>2021-07-10</td>\n",
              "      <td>https://novak-allison.com/</td>\n",
              "    </tr>\n",
              "    <tr>\n",
              "      <th>92</th>\n",
              "      <td>93</td>\n",
              "      <td>aAb6AFc7AfD0fF3</td>\n",
              "      <td>Collin</td>\n",
              "      <td>Ayers</td>\n",
              "      <td>Lamb-Peterson</td>\n",
              "      <td>South Lonnie</td>\n",
              "      <td>Anguilla</td>\n",
              "      <td>404-645-5351x012</td>\n",
              "      <td>001-257-582-8850x8516</td>\n",
              "      <td>dudleyemily@gonzales.biz</td>\n",
              "      <td>2021-06-29</td>\n",
              "      <td>http://www.ruiz.com/</td>\n",
              "    </tr>\n",
              "    <tr>\n",
              "      <th>0</th>\n",
              "      <td>1</td>\n",
              "      <td>DD37Cf93aecA6Dc</td>\n",
              "      <td>Sheryl</td>\n",
              "      <td>Baxter</td>\n",
              "      <td>Rasmussen Group</td>\n",
              "      <td>East Leonard</td>\n",
              "      <td>Chile</td>\n",
              "      <td>229.077.5154</td>\n",
              "      <td>397.884.0519x718</td>\n",
              "      <td>zunigavanessa@smith.info</td>\n",
              "      <td>2020-08-24</td>\n",
              "      <td>http://www.stephenson.com/</td>\n",
              "    </tr>\n",
              "    <tr>\n",
              "      <th>15</th>\n",
              "      <td>16</td>\n",
              "      <td>8cad0b4CBceaeec</td>\n",
              "      <td>Miranda</td>\n",
              "      <td>Beasley</td>\n",
              "      <td>Singleton and Sons</td>\n",
              "      <td>Desireeshire</td>\n",
              "      <td>Oman</td>\n",
              "      <td>540.085.3135x185</td>\n",
              "      <td>+1-600-462-6432x21881</td>\n",
              "      <td>vduncan@parks-hardy.com</td>\n",
              "      <td>2022-04-12</td>\n",
              "      <td>http://acosta.org/</td>\n",
              "    </tr>\n",
              "  </tbody>\n",
              "</table>\n",
              "</div>"
            ],
            "text/plain": [
              "    Index      Customer Id First Name Last Name                Company  \\\n",
              "67     68  a014Ec1b9FccC1E        Tom  Alvarado    Donaldson-Dougherty   \n",
              "96     97  CeD220bdAaCfaDf       Lynn  Atkinson  Ware, Burns and Oneal   \n",
              "92     93  aAb6AFc7AfD0fF3     Collin     Ayers          Lamb-Peterson   \n",
              "0       1  DD37Cf93aecA6Dc     Sheryl    Baxter        Rasmussen Group   \n",
              "15     16  8cad0b4CBceaeec    Miranda   Beasley     Singleton and Sons   \n",
              "\n",
              "                City    Country             Phone 1                Phone 2  \\\n",
              "67  South Sophiaberg   Kiribati  (585)606-2980x2258      730-797-3594x5614   \n",
              "96      New Bradview  Sri Lanka     +1-846-706-2218           605.413.3198   \n",
              "92      South Lonnie   Anguilla    404-645-5351x012  001-257-582-8850x8516   \n",
              "0       East Leonard      Chile        229.077.5154       397.884.0519x718   \n",
              "15      Desireeshire       Oman    540.085.3135x185  +1-600-462-6432x21881   \n",
              "\n",
              "                            Email Subscription Date  \\\n",
              "67  nicholsonnina@montgomery.info        2020-08-18   \n",
              "96              vkemp@ferrell.com        2021-07-10   \n",
              "92       dudleyemily@gonzales.biz        2021-06-29   \n",
              "0        zunigavanessa@smith.info        2020-08-24   \n",
              "15        vduncan@parks-hardy.com        2022-04-12   \n",
              "\n",
              "                       Website  \n",
              "67     http://odom-massey.com/  \n",
              "96  https://novak-allison.com/  \n",
              "92        http://www.ruiz.com/  \n",
              "0   http://www.stephenson.com/  \n",
              "15          http://acosta.org/  "
            ]
          },
          "execution_count": 98,
          "metadata": {},
          "output_type": "execute_result"
        }
      ],
      "source": [
        "df2 = pd.read_csv(\"C:/Users/nicm9/OneDrive/Documents/AMS595/PythonHw3/customers-100.csv\")\n",
        "df2.sort_values(\"Last Name\").head()"
      ]
    },
    {
      "cell_type": "code",
      "execution_count": 107,
      "metadata": {},
      "outputs": [
        {
          "data": {
            "image/png": "[encoded data removed]",
            "text/latex": [
              "$\\displaystyle 43$"
            ],
            "text/plain": [
              "43"
            ]
          },
          "execution_count": 107,
          "metadata": {},
          "output_type": "execute_result"
        }
      ],
      "source": [
        "subscription_date = df2[(df2['Subscription Date'] > '2021-01-01') & (df2['Subscription Date']< '2021-12-31')]\n",
        "len(subscription_date)"
      ]
    },
    {
      "cell_type": "markdown",
      "metadata": {
        "id": "aBpXtK8VvApb"
      },
      "source": [
        "## 5. LU decomposition (50 + 30 pts)\n"
      ]
    },
    {
      "cell_type": "markdown",
      "metadata": {
        "id": "ryafNieevrgZ"
      },
      "source": [
        "Part A (50 points)\n",
        "1. Write a function `LUdecomposition()` that takes as input a matrix $A\\in \\mathbb{R}^{n \\times n}$. Perform Gaussian Elimination to have this function return two matrices $L$ and $U$ such that $A=LU$.\n",
        "2. Your function should raise any relevant errors, for example, raise an error if a pure LU decomposition does not exist for $A$ (meaning that you have to perform pivoting, i.e., permutation of rows).\n",
        "3. Create several random matrices for the purpose of testing your function. Obtain the $L$ and $U$ matrices, and for each random matrix obtain its L and U matrices and perform a matrix multiplication (`np.matmul()`) to determine whether the outcome closely resembles the original matrix $A$, allowing for slight differences attributable to precision errors.\n",
        "\n",
        "\n",
        "Note: LU decomposition with Gaussian elimination should be covered in your undergraduate linear algebra class. It is also covered in AMS 510. If you do not know how, this 10 minute [video](https://www.youtube.com/watch?v=UlWcofkUDDU&ab_channel=Mathispower4u) explains it very well.\n",
        "\n",
        "Part B (30 bonus points)\n",
        "4. Not all square matrices have a pure LU decomposition. However, PLU decomposition always exists. Write another function `pivoting()` that takes as input a matrix $A$ and return the permutation/pivoting matrix $P$ such that $PA$ always has a pure LU decomposition.\n",
        "5. Find an example $A$ for which `LUdecomposition()` raises an error. Then, use `pivoting()` to find $P$, and find the pure LU decomposition of $PA$. Verify that indeed $PA = LU$ with matrix multiplication (`np.matmul()`).\n",
        "\n",
        "\n",
        "Hint: Please do not print out a giant matrix and visually examine the outcomes. Think of a way to verify your results and output a boolean value.\n"
      ]
    },
    {
      "cell_type": "markdown",
      "metadata": {
        "id": "QlP_giLsQRPM"
      },
      "source": [
        "Fact: LU and PLU decompositions are not unique."
      ]
    },
    {
      "cell_type": "code",
      "execution_count": null,
      "metadata": {},
      "outputs": [],
      "source": [
        "#should be another error that is not listed here as well\n",
        "#np.allclose() check if the 2 matrices are equal to each other "
      ]
    },
    {
      "cell_type": "code",
      "execution_count": 8,
      "metadata": {},
      "outputs": [
        {
          "name": "stdout",
          "output_type": "stream",
          "text": [
            "A: [[ 10 -20  10]\n",
            " [  2   1  -3]\n",
            " [  4  -7   1]]\n",
            "L: [[1.  0.  0. ]\n",
            " [0.2 1.  0. ]\n",
            " [0.4 0.2 1. ]]\n",
            "U: [[ 10 -20  10]\n",
            " [  0   5  -5]\n",
            " [  0   0  -2]]\n",
            "A = LU?\n",
            " [[ 10 -20  10]\n",
            " [  2   1  -3]\n",
            " [  4  -7   1]] = [[ 10. -20.  10.]\n",
            " [  2.   1.  -3.]\n",
            " [  4.  -7.   1.]]\n"
          ]
        }
      ],
      "source": [
        "import numpy as np\n",
        "a = np.array([[10, -20, 10], [2, 1, -3], [4, -7, 1]])\n",
        "\n",
        "\n",
        "def LUdecomposition(matrix_a):\n",
        "\n",
        "    num_rows, num_cols = np.shape(matrix_a)\n",
        "\n",
        "\n",
        "    matrix_u = matrix_a.copy()\n",
        "\n",
        "    for col in range(num_rows-1):\n",
        "        for row in range(col + 1,num_rows):\n",
        "            cur_cell = matrix_u[row,col]\n",
        "            cur_pivot = matrix_u[col,col]\n",
        "            fraction = cur_cell/cur_pivot\n",
        "            modified_top_row = fraction * matrix_u[col,:]\n",
        "            matrix_u[row,:] = matrix_u[row,:] - modified_top_row\n",
        "\n",
        "    matrix_l = np.zeros(np.shape(matrix_a))\n",
        "\n",
        "    for col in range(num_cols):\n",
        "        for row in range(col, num_cols):\n",
        "\n",
        "            if col == row:\n",
        "                matrix_l[row,col] = 1\n",
        "            else:\n",
        "\n",
        "                minus = 0\n",
        "                for j in range(col):\n",
        "                    minus+= matrix_l[row,j] * matrix_u[j, col]\n",
        "                \n",
        "                matrix_l[row,col] = (matrix_a[row,col] - minus)/matrix_u[col,col]\n",
        "\n",
        "    return matrix_l, matrix_u\n",
        "\n",
        "\n",
        "\n",
        "L, U = LUdecomposition(a)\n",
        "print(f\"A: {a}\")\n",
        "print(f\"L: {L}\")\n",
        "print(f\"U: {U}\")\n",
        "\n",
        "print(f\"A = LU?\\n {a} = {np.matmul(L,U)}\")\n",
        "\n"
      ]
    },
    {
      "cell_type": "markdown",
      "metadata": {
        "id": "X_4ITuoU53KF"
      },
      "source": [
        "## 6. Markov Chain (30 pts)"
      ]
    },
    {
      "cell_type": "markdown",
      "metadata": {
        "id": "X2-wBoxIWLQs"
      },
      "source": [
        "**BACKGROUND:** Consider a Markov chain transition matrix $P$ on a set of $n$ states, where $P_{i j}$ corresponds to the probability $\\left(0 \\leq P_{i j} \\leq 1\\right)$ to go from state $i$ to the state $j$, and each row is normalized so that\n",
        "$$\n",
        "\\sum_{j=1}^n P_{i j}=1 .\n",
        "$$\n",
        "\n",
        "Let $p$ be a size- $n$ vector composed of the probability distribution over the $n$ states, where\n",
        "$$\n",
        "\\sum_{j=1}^n p_j=1 .\n",
        "$$\n",
        "\n",
        "The transition rule corresponding to the transition matrix $P$ is $\\hat{p}=P^T p$, where $\\hat{p}$ corresponds to a new probability distribution and\n",
        "$$\n",
        "\\sum_{j=1}^n \\hat{p}_j=1 .\n",
        "$$\n",
        "TASK: Write a program that works with 5 states `only use the numpy library`. In particular,\n",
        "0. Fix the random seed to be the last digit of your id: `numpy.random.seed()`.\n",
        "\n",
        "1. Construct a random $5 \\times 5$ matrix $P$, and normalize each row so that\n",
        "$$\n",
        "\\sum_{j=1}^5 P_{i j}=1 .\n",
        "$$\n",
        "\n",
        "2. Construct a random size-5 vector $p$ and normalize it so that\n",
        "$$\n",
        "\\sum_{j=1}^5 p_j=1 .\n",
        "$$\n",
        "Apply the transition rule 50 times to obtain $p_{50}$.\n",
        "3. Compute the eigenvector $v$ of $P^T$ corresponding to the eigenvalue 1 (and numerically, the eigenvalue closest to $1)$, and then scale the eigenvector so that\n",
        "$$\n",
        "\\sum_{j=1}^5 v_j=1 .\n",
        "$$\n",
        "This scaled eigenvector is known as the stationary distribution.\n",
        "\n",
        "4. Compute the component wise difference between $p_{50}$ and the stationary distribution. Do they match with each other within $1 \\mathrm{e}-5$ ?\n",
        "\n",
        "HINTS: You may find the following functions useful in your implementation:\n",
        "- np.random.rand\n",
        "- np.dot\n",
        "- np.linalg.eig"
      ]
    },
    {
      "cell_type": "markdown",
      "metadata": {},
      "source": [
        "# 1"
      ]
    },
    {
      "cell_type": "code",
      "execution_count": 9,
      "metadata": {},
      "outputs": [
        {
          "name": "stdout",
          "output_type": "stream",
          "text": [
            "1.0\n",
            "1.0\n",
            "1.0\n",
            "1.0\n",
            "1.0000000000000002\n"
          ]
        }
      ],
      "source": [
        "import numpy as np\n",
        "\n",
        "def gen_mat_P():\n",
        "    np.random.seed(8)\n",
        "\n",
        "    P = np.random.rand(5,5)\n",
        "    \n",
        "    for i in range(len(P)):\n",
        "        row = P[i]\n",
        "        P[i] = row/row.sum()\n",
        "    return P\n",
        "\n",
        "def check(array):\n",
        "    for row in array:\n",
        "        print(row.sum())\n",
        "    \n",
        "P = gen_mat_P()\n",
        "check(P)"
      ]
    },
    {
      "cell_type": "markdown",
      "metadata": {},
      "source": [
        "# 2"
      ]
    },
    {
      "cell_type": "code",
      "execution_count": 10,
      "metadata": {},
      "outputs": [
        {
          "name": "stdout",
          "output_type": "stream",
          "text": [
            "row vector p: [0.25136477 0.2787369  0.25014602 0.15277528 0.06697703]\n",
            "Sum of row vector probabilities (should be close to 1 since it is a prob distro): 1.0\n"
          ]
        }
      ],
      "source": [
        "def gen_row_p():\n",
        "    np.random.seed(8)\n",
        "    p = np.random.rand(5)\n",
        "    p = p/p.sum()\n",
        "    \n",
        "    return p\n",
        "     \n",
        "p = gen_row_p()\n",
        "\n",
        "print(f\"row vector p: {p}\")\n",
        "print(f\"Sum of row vector probabilities (should be close to 1 since it is a prob distro): {p.sum()}\")"
      ]
    },
    {
      "cell_type": "code",
      "execution_count": 11,
      "metadata": {},
      "outputs": [
        {
          "name": "stdout",
          "output_type": "stream",
          "text": [
            "p50: [0.12304366 0.26075232 0.25213473 0.21172295 0.15234634]\n",
            "p50 should still be a probability distribution so it's sum should also be close to 1: 1.0000000000000009\n"
          ]
        }
      ],
      "source": [
        "# Apply transition 50 times\n",
        "\n",
        "p50 = p\n",
        "\n",
        "for _ in range(50):\n",
        "    p50 = np.dot(P.T, p50)\n",
        "    \n",
        "print(f\"p50: {p50}\")\n",
        "\n",
        "print(f\"p50 should still be a probability distribution so it's sum should also be close to 1: {p50.sum()}\")"
      ]
    },
    {
      "cell_type": "markdown",
      "metadata": {},
      "source": [
        "# 3"
      ]
    },
    {
      "cell_type": "code",
      "execution_count": 13,
      "metadata": {},
      "outputs": [
        {
          "name": "stdout",
          "output_type": "stream",
          "text": [
            "Eigenvalues:\n",
            " [ 1.         -0.24030228  0.17916363  0.00274744 -0.02446717]\n",
            "Real parts of Eigenvalues:\n",
            " [ 1.         -0.24030228  0.17916363  0.00274744 -0.02446717]\n",
            "\n",
            "\n",
            "\n",
            "\n",
            "[[ 0.26552372 -0.17585855  0.85372881  0.59694582 -0.50401666]\n",
            " [ 0.56269397 -0.7544231  -0.30409957  0.41629511 -0.46941504]\n",
            " [ 0.54409753  0.10330101  0.0445187  -0.62905716  0.6885893 ]\n",
            " [ 0.45689037  0.25970481 -0.28751419 -0.17156654  0.06861777]\n",
            " [ 0.32875784  0.56727583 -0.30663375 -0.21261723  0.21622464]]\n",
            "0\n",
            "Eigenvector: [0.26552372 0.56269397 0.54409753 0.45689037 0.32875784]\n",
            "Stationary distribution: [0.12304366 0.26075232 0.25213473 0.21172295 0.15234634]\n",
            "[0.12304366 0.26075232 0.25213473 0.21172295 0.15234634]\n"
          ]
        }
      ],
      "source": [
        "eig = np.linalg.eig(P.T)\n",
        "\n",
        "values, vectors = eig\n",
        "\n",
        "print(f\"Eigenvalues:\\n {values}\")\n",
        "print(f\"Real parts of Eigenvalues:\\n {values.real}\")\n",
        "\n",
        "print(\"\\n\\n\\n\")\n",
        "# index_of_1 = list(values).index(1.)\n",
        "\n",
        "# print(index_of_1)\n",
        "\n",
        "\n",
        "print(vectors.real)\n",
        "\n",
        "\n",
        "real_values = values.real\n",
        "# Find the index of eigenvalue 1, may not be exact so search for closest one\n",
        "minimum_diff = 1\n",
        "index_of_1 = -1\n",
        "for i in range(len(real_values)):\n",
        "    current = real_values[i]\n",
        "    if abs(current-1) < minimum_diff:\n",
        "        minimum_diff = abs(current-1)\n",
        "        index_of_1 = i\n",
        "        \n",
        "print(index_of_1)\n",
        "\n",
        "# Can discard imaginary part, will be 0 anyway\n",
        "# Need to get the column due to .eig returns the vectors\n",
        "nonnormalized_eigenvector = vectors[:, index_of_1].real\n",
        "print(f\"Eigenvector: {nonnormalized_eigenvector}\")\n",
        "\n",
        "stationary_distribution = nonnormalized_eigenvector/nonnormalized_eigenvector.sum()\n",
        "\n",
        "print(f\"Stationary distribution: {stationary_distribution}\")\n",
        "\n",
        "\n",
        "\n",
        "print(np.dot(P.T, stationary_distribution))"
      ]
    },
    {
      "cell_type": "markdown",
      "metadata": {},
      "source": [
        "# 4"
      ]
    },
    {
      "cell_type": "code",
      "execution_count": 14,
      "metadata": {},
      "outputs": [
        {
          "name": "stdout",
          "output_type": "stream",
          "text": [
            "[-1.80411242e-16 -2.77555756e-16 -5.55111512e-17 -1.94289029e-16\n",
            " -2.77555756e-17]\n"
          ]
        }
      ],
      "source": [
        "# What is component wise difference?\n",
        "\n",
        "print(stationary_distribution - p50)"
      ]
    }
  ],
  "metadata": {
    "accelerator": "GPU",
    "anaconda-cloud": {},
    "colab": {
      "collapsed_sections": [
        "KR0Fl4yAQYad",
        "U5SL2j0sqnAJ",
        "29VDnBBE5pUV",
        "uzMa1xSEwhe3",
        "YCD9beX75Yp7",
        "aCgIDqeLBPjj",
        "WqHDjQC-KLjo",
        "wzeYQOW0OCH3",
        "X_4ITuoU53KF",
        "yoMb8G9jXWcu"
      ],
      "gpuType": "T4",
      "provenance": []
    },
    "kernelspec": {
      "display_name": "Python 3",
      "name": "python3"
    },
    "language_info": {
      "codemirror_mode": {
        "name": "ipython",
        "version": 3
      },
      "file_extension": ".py",
      "mimetype": "text/x-python",
      "name": "python",
      "nbconvert_exporter": "python",
      "pygments_lexer": "ipython3",
      "version": "3.11.5"
    }
  },
  "nbformat": 4,
  "nbformat_minor": 0
}
